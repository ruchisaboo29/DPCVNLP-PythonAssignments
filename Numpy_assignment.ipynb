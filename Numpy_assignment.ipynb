{
 "cells": [
  {
   "cell_type": "markdown",
   "metadata": {},
   "source": [
    "### Numpy assignment"
   ]
  },
  {
   "cell_type": "markdown",
   "metadata": {},
   "source": [
    "Problem Statement 1: \n",
    "Write a function so that the columns of the output matrix are powers of the input vector. \n",
    "The order of the powers is determined by the increasing boolean argument.\n",
    "Specifically, when increasing is False, the i-th output column is the input vector raised element-wise \n",
    "to the power of N - i - 1. \n",
    "HINT: Such a matrix with a geometric progression in each row is named for Alexandre- Theophile Vandermonde. \n",
    "\n",
    "Problem Statement 2: \n",
    "Given a sequence of n values x1, x2, ..., xn and a window size k>0, the k-th moving average of the given \n",
    "sequence is defined as follows: \n",
    "The moving average sequence has n-k+1 elements as shown below. \n",
    "The moving averages with k=4 of a ten-value sequence (n=10) is shown below \n",
    "i 1 2 3 4 5 6 7 8 9 10 ===== == == == == == == == == == == Input 10 20 30 40 50 60 70 80 90 100 y1 25 = (10+20+30+40)/4 y2 35 = (20+30+40+50)/4 y3 45 = (30+40+50+60)/4 y4 55 = (40+50+60+70)/4 y5 65 = (50+60+70+80)/4 y6 75 = (60+70+80+90)/4 y7 85 = (70+80+90+100)/4 \n",
    "Thus, the moving average sequence has n-k+1=10-4+1=7 values. \n",
    "Question: Write a function to find moving average in an array over a window: \n",
    "Test it over [3, 5, 7, 2, 8, 10, 11, 65, 72, 81, 99, 100, 150] and window of 3. \n",
    "Note: Solution submitted via github must contain all the detailed steps. \n",
    "3.Output \n",
    "This assignment consists of 200 marks and needs to be submitted in the upcoming session for evaluation. \n"
   ]
  },
  {
   "cell_type": "markdown",
   "metadata": {},
   "source": [
    "Solution 1:"
   ]
  },
  {
   "cell_type": "code",
   "execution_count": 1,
   "metadata": {},
   "outputs": [],
   "source": [
    "import numpy as np\n",
    "\n",
    "def geo_matrix(inp_mat, out_len, increasing= False):\n",
    "    if increasing:\n",
    "        b=np.array([i**(out_len-n-1) for i in inp_mat for n in range(out_len-1,-1,-1)]).\\\n",
    "        reshape(len(inp_mat),out_len)\n",
    "    else:\n",
    "        b=np.array([i**(out_len-n-1) for i in inp_mat for n in range(out_len)]).\\\n",
    "        reshape(len(inp_mat),out_len)\n",
    "    return b\n"
   ]
  },
  {
   "cell_type": "code",
   "execution_count": 2,
   "metadata": {},
   "outputs": [
    {
     "data": {
      "text/plain": [
       "array([[  1,   1,   1,   1],\n",
       "       [  8,   4,   2,   1],\n",
       "       [ 27,   9,   3,   1],\n",
       "       [ 64,  16,   4,   1],\n",
       "       [125,  25,   5,   1]])"
      ]
     },
     "execution_count": 2,
     "metadata": {},
     "output_type": "execute_result"
    }
   ],
   "source": [
    "int_mat=[1, 2, 3, 4, 5] \n",
    "number_of_output_col=4\n",
    "geo_matrix(int_mat, number_of_output_col)"
   ]
  },
  {
   "cell_type": "code",
   "execution_count": 3,
   "metadata": {},
   "outputs": [
    {
     "data": {
      "text/plain": [
       "array([[  1,   1,   1,   1],\n",
       "       [  1,   2,   4,   8],\n",
       "       [  1,   3,   9,  27],\n",
       "       [  1,   4,  16,  64],\n",
       "       [  1,   5,  25, 125]])"
      ]
     },
     "execution_count": 3,
     "metadata": {},
     "output_type": "execute_result"
    }
   ],
   "source": [
    "geo_matrix(int_mat, number_of_output_col, increasing=True)"
   ]
  },
  {
   "cell_type": "markdown",
   "metadata": {},
   "source": [
    "Solution 2"
   ]
  },
  {
   "cell_type": "code",
   "execution_count": 4,
   "metadata": {},
   "outputs": [],
   "source": [
    "def moving_average(arr,window):\n",
    "    values=(len(arr)-window+1)\n",
    "    lst=[]\n",
    "    for i in range(values):\n",
    "        s=0\n",
    "        for i in arr[i:i+window]:\n",
    "            s=s+i\n",
    "        lst.append(s/window)\n",
    "    return(np.array(lst))"
   ]
  },
  {
   "cell_type": "code",
   "execution_count": 5,
   "metadata": {},
   "outputs": [
    {
     "data": {
      "text/plain": [
       "array([  5.        ,   4.66666667,   5.66666667,   6.66666667,\n",
       "         9.66666667,  28.66666667,  49.33333333,  72.66666667,\n",
       "        84.        ,  93.33333333, 116.33333333])"
      ]
     },
     "execution_count": 5,
     "metadata": {},
     "output_type": "execute_result"
    }
   ],
   "source": [
    "seq=np.array([3, 5, 7, 2, 8, 10, 11, 65, 72, 81, 99, 100, 150])\n",
    "window=3\n",
    "moving_average(seq,window)"
   ]
  },
  {
   "cell_type": "code",
   "execution_count": 6,
   "metadata": {},
   "outputs": [
    {
     "data": {
      "text/plain": [
       "array([25., 35., 45., 55., 65., 75., 85.])"
      ]
     },
     "execution_count": 6,
     "metadata": {},
     "output_type": "execute_result"
    }
   ],
   "source": [
    "seq=np.array([10, 20, 30, 40, 50, 60, 70, 80, 90, 100])\n",
    "window=4\n",
    "moving_average(seq, window)"
   ]
  }
 ],
 "metadata": {
  "kernelspec": {
   "display_name": "Python 3",
   "language": "python",
   "name": "python3"
  },
  "language_info": {
   "codemirror_mode": {
    "name": "ipython",
    "version": 3
   },
   "file_extension": ".py",
   "mimetype": "text/x-python",
   "name": "python",
   "nbconvert_exporter": "python",
   "pygments_lexer": "ipython3",
   "version": "3.7.3"
  }
 },
 "nbformat": 4,
 "nbformat_minor": 4
}
