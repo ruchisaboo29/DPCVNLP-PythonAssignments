{
 "cells": [
  {
   "cell_type": "markdown",
   "metadata": {},
   "source": [
    "### Python Assignment 4"
   ]
  },
  {
   "cell_type": "markdown",
   "metadata": {},
   "source": [
    "1.1 Write a Python Program(with class concepts) to find the area of the triangle using the below\n",
    "formula.\n",
    "area = (s*(s-a)*(s-b)*(s-c)) ** 0.5\n",
    "Function to take the length of the sides of triangle from user should be defined in the parent\n",
    "class and function to calculate the area should be defined in subclass.\n",
    "\n",
    "1.2 Write a function filter_long_words() that takes a list of words and an integer n and returns\n",
    "the list of words that are longer than n.\n",
    "\n",
    "2.1 Write a Python program using function concept that maps list of words into a list of integers\n",
    "representing the lengths of the corresponding words.\n",
    "Hint: If a list [ ab,cde,erty] is passed on to the python function output should come as [2,3,4]\n",
    "Here 2,3 and 4 are the lengths of the words in the list.\n",
    "\n",
    "2.2 Write a Python function which takes a character (i.e. a string of length 1) and returns True if\n",
    "it is a vowel, False otherwise."
   ]
  },
  {
   "cell_type": "markdown",
   "metadata": {},
   "source": [
    "Solution 1.1"
   ]
  },
  {
   "cell_type": "code",
   "execution_count": 1,
   "metadata": {},
   "outputs": [
    {
     "name": "stdout",
     "output_type": "stream",
     "text": [
      "Enter 1st side of triangle : 4\n",
      "Enter 2nd side of triangle : 13\n",
      "Enter 3rd side of triangle : 15\n",
      "\n",
      " Area of triangle :  24.0\n"
     ]
    }
   ],
   "source": [
    "class area:\n",
    "   def __init__(self):\n",
    "        self.a=int(input('Enter 1st side of triangle : '))\n",
    "        self.b=int(input('Enter 2nd side of triangle : '))\n",
    "        self.c=int(input('Enter 3rd side of triangle : '))\n",
    "        \n",
    "class calculation(area):\n",
    "    def calculate_area(self):\n",
    "        s=(self.a+self.b+self.c)/2\n",
    "        v = (s*(s-self.a)*(s-self.b)*(s-self.c)) ** 0.5\n",
    "        return v\n",
    "    \n",
    "\n",
    "if __name__=='__main__':\n",
    "       t1=calculation()\n",
    "       print ('\\n Area of triangle : ',t1.calculate_area())\n",
    "    "
   ]
  },
  {
   "cell_type": "markdown",
   "metadata": {},
   "source": [
    "Solution 1.2"
   ]
  },
  {
   "cell_type": "code",
   "execution_count": 2,
   "metadata": {},
   "outputs": [
    {
     "name": "stdout",
     "output_type": "stream",
     "text": [
      "Enter integer to filter list of words that are longer than it : 5\n",
      "Enter the number of words to input : 5\n",
      "Enter list of words : Ruchi\n",
      "Enter list of words : ineuron\n",
      "Enter list of words : deeplearning\n",
      "Enter list of words : ml\n",
      "Enter list of words : data\n"
     ]
    },
    {
     "data": {
      "text/plain": [
       "['ineuron', 'deeplearning']"
      ]
     },
     "execution_count": 2,
     "metadata": {},
     "output_type": "execute_result"
    }
   ],
   "source": [
    "def filter_long_words(n, lst):\n",
    "    list_of_words=[]\n",
    "    for i in lst:\n",
    "        if len(i)>n:\n",
    "            list_of_words.append(i)\n",
    "    return list_of_words\n",
    "\n",
    "\n",
    "n=int(input('Enter integer to filter list of words that are longer than it : '))\n",
    "n_lst=int(input('Enter the number of words to input : '))\n",
    "lst=[]\n",
    "\n",
    "for i in range(n_lst):\n",
    "    i=input('Enter list of words : ')\n",
    "    lst.append(i)\n",
    "    \n",
    "filter_long_words(n,lst)\n",
    "\n"
   ]
  },
  {
   "cell_type": "markdown",
   "metadata": {},
   "source": [
    "Solution 2.1"
   ]
  },
  {
   "cell_type": "code",
   "execution_count": 36,
   "metadata": {},
   "outputs": [
    {
     "data": {
      "text/plain": [
       "[2, 3, 4]"
      ]
     },
     "execution_count": 36,
     "metadata": {},
     "output_type": "execute_result"
    }
   ],
   "source": [
    "lst=['ab','cde','erty'] \n",
    "\n",
    "def word_to_integer_lst(lst):\n",
    "    int_lst=[]\n",
    "    [int_lst.append(len(i)) for i in lst]\n",
    "    return int_lst\n",
    "\n",
    "word_to_integer_lst(lst)"
   ]
  },
  {
   "cell_type": "markdown",
   "metadata": {},
   "source": [
    "Solution 2.2"
   ]
  },
  {
   "cell_type": "code",
   "execution_count": 32,
   "metadata": {},
   "outputs": [
    {
     "name": "stdout",
     "output_type": "stream",
     "text": [
      "Enter a character to check if it is a vowel or not :o\n"
     ]
    },
    {
     "data": {
      "text/plain": [
       "True"
      ]
     },
     "execution_count": 32,
     "metadata": {},
     "output_type": "execute_result"
    }
   ],
   "source": [
    "def vowel_check(char):\n",
    "    if char in['a','e','i','o','u','A','E','I','O','U']:\n",
    "        return True\n",
    "    else:\n",
    "        return False\n",
    "    \n",
    "char=input(\"Enter a character to check if it is a vowel or not :\")\n",
    "vowel_check(char)"
   ]
  }
 ],
 "metadata": {
  "kernelspec": {
   "display_name": "Python 3",
   "language": "python",
   "name": "python3"
  },
  "language_info": {
   "codemirror_mode": {
    "name": "ipython",
    "version": 3
   },
   "file_extension": ".py",
   "mimetype": "text/x-python",
   "name": "python",
   "nbconvert_exporter": "python",
   "pygments_lexer": "ipython3",
   "version": "3.7.3"
  }
 },
 "nbformat": 4,
 "nbformat_minor": 4
}
